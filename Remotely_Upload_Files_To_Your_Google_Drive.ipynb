{
  "nbformat": 4,
  "nbformat_minor": 0,
  "metadata": {
    "colab": {
      "provenance": [],
      "authorship_tag": "ABX9TyO3FYU1e2EDd7U9sgbCzqKM",
      "include_colab_link": true
    },
    "kernelspec": {
      "name": "python3",
      "display_name": "Python 3"
    },
    "language_info": {
      "name": "python"
    }
  },
  "cells": [
    {
      "cell_type": "markdown",
      "metadata": {
        "id": "view-in-github",
        "colab_type": "text"
      },
      "source": [
        "<a href=\"https://colab.research.google.com/github/themrsami/Google-Collab-Script-to-Remotely-Upload-Files-to-Your-Google-Drive/blob/main/Remotely_Upload_Files_To_Your_Google_Drive.ipynb\" target=\"_parent\"><img src=\"https://colab.research.google.com/assets/colab-badge.svg\" alt=\"Open In Colab\"/></a>"
      ]
    },
    {
      "cell_type": "code",
      "execution_count": null,
      "metadata": {
        "colab": {
          "base_uri": "https://localhost:8080/"
        },
        "id": "NjEuXwofT6mO",
        "outputId": "35b284dc-1820-4d02-a159-14dfceeeab12"
      },
      "outputs": [
        {
          "output_type": "stream",
          "name": "stdout",
          "text": [
            "Mounted at /content/drive\n"
          ]
        }
      ],
      "source": [
        "from google.colab import drive\n",
        "drive.mount('/content/drive')\n"
      ]
    },
    {
      "cell_type": "code",
      "source": [
        "# prompt: change the above process to only accept the google drive view links not other direct download links.\n",
        "\n",
        "from google.colab import drive\n",
        "import gdown\n",
        "import concurrent.futures\n",
        "import requests\n",
        "drive.mount('/content/drive')\n",
        "\n",
        "\n",
        "def create_download_link(view_link):\n",
        "    # Split the view link by '/'\n",
        "    split_link = view_link.split('/')\n",
        "    # The ID of the file is always at the 5th position after splitting\n",
        "    file_id = split_link[5]\n",
        "    # Create the download link using the file ID\n",
        "    download_link = f\"https://drive.google.com/u/0/uc?id={file_id}&export=download\"\n",
        "    return download_link\n",
        "\n",
        "def download_file(url):\n",
        "    output = '/content/drive/My Drive/gdrivefiles/'\n",
        "    if 'drive.google.com' in url:\n",
        "        gdown.download(url, output, quiet=True)\n",
        "    else:\n",
        "        print('Invalid download link')\n",
        "\n",
        "# String of Google Drive view links separated by commas\n",
        "google_drive_view_links = 'https://drive.google.com/file/d/1JIeDf-U-Ipn3qp6BOKQQT6nIhQIUnqou/view,https://drive.google.com/file/d/1WXSmhpfQgGtbv-RUXxfAXduWxmIq4nk6/view'\n",
        "\n",
        "# Convert the string into a list of view links\n",
        "view_links = google_drive_view_links.split(',')\n",
        "\n",
        "# Convert view links to download links\n",
        "download_links = [create_download_link(link) for link in view_links]\n",
        "\n",
        "# Use a ThreadPoolExecutor to download the files in parallel\n",
        "with concurrent.futures.ThreadPoolExecutor() as executor:\n",
        "    executor.map(download_file, download_links)\n"
      ],
      "metadata": {
        "id": "9tx0aDRNiJWS"
      },
      "execution_count": null,
      "outputs": []
    }
  ]
}