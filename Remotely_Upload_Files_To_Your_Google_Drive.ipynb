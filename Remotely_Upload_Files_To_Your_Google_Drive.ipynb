{
  "cells": [
    {
      "cell_type": "markdown",
      "metadata": {
        "colab_type": "text",
        "id": "view-in-github"
      },
      "source": [
        "<a href=\"https://colab.research.google.com/github/themrsami/Google-Collab-Script-to-Remotely-Upload-Files-to-Your-Google-Drive/blob/main/Remotely_Upload_Files_To_Your_Google_Drive.ipynb\" target=\"_parent\"><img src=\"https://colab.research.google.com/assets/colab-badge.svg\" alt=\"Open In Colab\"/></a>"
      ]
    },
    {
      "cell_type": "code",
      "execution_count": null,
      "metadata": {
        "id": "er-64EQYjIhm"
      },
      "outputs": [],
      "source": [
        "# Import necessary libraries\n",
        "from google.colab import drive\n",
        "import requests\n",
        "import os\n",
        "from tqdm import tqdm\n",
        "\n",
        "# Function to download and save file to Google Drive\n",
        "def save_to_drive(file_url, drive_folder):\n",
        "    # Mount Google Drive\n",
        "    drive.mount('/content/drive')\n",
        "\n",
        "    # Send a GET request to download the file\n",
        "    response = requests.get(file_url, stream=True)\n",
        "\n",
        "    # Check if the request was successful\n",
        "    if response.status_code == 200:\n",
        "        # Get the file name from the Content-Disposition header\n",
        "        content_disposition = response.headers.get('content-disposition')\n",
        "        if content_disposition:\n",
        "            file_name = content_disposition.split('filename=')[-1].strip('\"')\n",
        "        else:\n",
        "            file_name = file_url.split(\"/\")[-1]\n",
        "\n",
        "        # Create the full path for the file\n",
        "        file_path = os.path.join('/content/drive', drive_folder, file_name)\n",
        "\n",
        "        # Get the total file size\n",
        "        file_size = int(response.headers.get('content-length', 0))\n",
        "\n",
        "        # Create a progress bar\n",
        "        progress = tqdm(response.iter_content(1024), f'Downloading {file_name}', total=file_size, unit='B', unit_scale=True, unit_divisor=1024)\n",
        "\n",
        "        # Open the file and write the content\n",
        "        with open(file_path, 'wb') as file:\n",
        "            for data in progress.iterable:\n",
        "                # Write data read to the file\n",
        "                file.write(data)\n",
        "                # Update the progress bar manually\n",
        "                progress.update(len(data))\n",
        "\n",
        "        print(f\"File downloaded successfully to {file_path}\")\n",
        "    else:\n",
        "        print(\"Failed to download file\")\n",
        "\n",
        "# Usage\n",
        "file_url = 'paste_download_link_here'  # replace with your file url\n",
        "drive_folder = 'My Drive/'  # replace with your desired Google Drive folder\n",
        "save_to_drive(file_url, drive_folder)"
      ]
    }
  ],
  "metadata": {
    "colab": {
      "authorship_tag": "ABX9TyNc5zPU154IW7nohAHSKXjP",
      "include_colab_link": true,
      "provenance": []
    },
    "kernelspec": {
      "display_name": "Python 3",
      "name": "python3"
    },
    "language_info": {
      "name": "python"
    }
  },
  "nbformat": 4,
  "nbformat_minor": 0
}
